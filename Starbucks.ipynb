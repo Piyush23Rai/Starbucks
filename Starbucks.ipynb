{
 "cells": [
  {
   "cell_type": "markdown",
   "metadata": {},
   "source": [
    "## Portfolio Exercise: Starbucks\n",
    "<br>\n",
    "\n",
    "<img src=\"https://opj.ca/wp-content/uploads/2018/02/New-Starbucks-Logo-1200x969.jpg\" width=\"200\" height=\"200\">\n",
    "<br>\n",
    "<br>\n",
    " \n",
    "#### Background Information\n",
    "\n",
    "The dataset you will be provided in this portfolio exercise was originally used as a take-home assignment provided by Starbucks for their job candidates. The data for this exercise consists of about 120,000 data points split in a 2:1 ratio among training and test files. In the experiment simulated by the data, an advertising promotion was tested to see if it would bring more customers to purchase a specific product priced at $10. Since it costs the company 0.15 to send out each promotion, it would be best to limit that promotion only to those that are most receptive to the promotion. Each data point includes one column indicating whether or not an individual was sent a promotion for the product, and one column indicating whether or not that individual eventually purchased that product. Each individual also has seven additional features associated with them, which are provided abstractly as V1-V7.\n",
    "\n",
    "#### Optimization Strategy\n",
    "\n",
    "Your task is to use the training data to understand what patterns in V1-V7 to indicate that a promotion should be provided to a user. Specifically, your goal is to maximize the following metrics:\n",
    "\n",
    "* **Incremental Response Rate (IRR)** \n",
    "\n",
    "IRR depicts how many more customers purchased the product with the promotion, as compared to if they didn't receive the promotion. Mathematically, it's the ratio of the number of purchasers in the promotion group to the total number of customers in the purchasers group (_treatment_) minus the ratio of the number of purchasers in the non-promotional group to the total number of customers in the non-promotional group (_control_).\n",
    "\n",
    "$$ IRR = \\frac{purch_{treat}}{cust_{treat}} - \\frac{purch_{ctrl}}{cust_{ctrl}} $$\n",
    "\n",
    "\n",
    "* **Net Incremental Revenue (NIR)**\n",
    "\n",
    "NIR depicts how much is made (or lost) by sending out the promotion. Mathematically, this is 10 times the total number of purchasers that received the promotion minus 0.15 times the number of promotions sent out, minus 10 times the number of purchasers who were not given the promotion.\n",
    "\n",
    "$$ NIR = (10\\cdot purch_{treat} - 0.15 \\cdot cust_{treat}) - 10 \\cdot purch_{ctrl}$$\n",
    "\n",
    "For a full description of what Starbucks provides to candidates see the [instructions available here](https://drive.google.com/open?id=18klca9Sef1Rs6q8DW4l7o349r8B70qXM).\n",
    "\n",
    "Below you can find the training data provided.  Explore the data and different optimization strategies.\n",
    "\n",
    "#### How To Test Your Strategy?\n",
    "\n",
    "When you feel like you have an optimization strategy, complete the `promotion_strategy` function to pass to the `test_results` function.  \n",
    "From past data, we know there are four possible outomes:\n",
    "\n",
    "Table of actual promotion vs. predicted promotion customers:  \n",
    "\n",
    "<table>\n",
    "<tr><th></th><th colspan = '2'>Actual</th></tr>\n",
    "<tr><th>Predicted</th><th>Yes</th><th>No</th></tr>\n",
    "<tr><th>Yes</th><td>I</td><td>II</td></tr>\n",
    "<tr><th>No</th><td>III</td><td>IV</td></tr>\n",
    "</table>\n",
    "\n",
    "The metrics are only being compared for the individuals we predict should obtain the promotion – that is, quadrants I and II.  Since the first set of individuals that receive the promotion (in the training set) receive it randomly, we can expect that quadrants I and II will have approximately equivalent participants.  \n",
    "\n",
    "Comparing quadrant I to II then gives an idea of how well your promotion strategy will work in the future. \n",
    "\n",
    "piGet started by reading in the data below.  See how each variable or combination of variables along with a promotion influences the chance of purchasing.  When you feel like you have a strategy for who should receive a promotion, test your strategy against the test dataset used in the final `test_results` function."
   ]
  },
  {
   "cell_type": "code",
   "execution_count": 1,
   "metadata": {},
   "outputs": [
    {
     "name": "stdout",
     "output_type": "stream",
     "text": [
      "Collecting pip\n",
      "\u001b[?25l  Downloading https://files.pythonhosted.org/packages/47/ca/f0d790b6e18b3a6f3bd5e80c2ee4edbb5807286c21cdd0862ca933f751dd/pip-21.1.3-py3-none-any.whl (1.5MB)\n",
      "\u001b[K    100% |████████████████████████████████| 1.6MB 5.6MB/s eta 0:00:01    86% |███████████████████████████▊    | 1.3MB 9.0MB/s eta 0:00:01\n",
      "\u001b[?25hInstalling collected packages: pip\n",
      "  Found existing installation: pip 18.1\n",
      "    Uninstalling pip-18.1:\n",
      "      Successfully uninstalled pip-18.1\n",
      "Successfully installed pip-21.1.3\n",
      "Collecting imblearn\n",
      "  Downloading imblearn-0.0-py2.py3-none-any.whl (1.9 kB)\n",
      "Collecting imbalanced-learn\n",
      "  Downloading imbalanced_learn-0.8.0-py3-none-any.whl (206 kB)\n",
      "\u001b[K     |████████████████████████████████| 206 kB 5.1 MB/s eta 0:00:01\n",
      "\u001b[?25hCollecting numpy>=1.13.3\n",
      "  Downloading numpy-1.19.5-cp36-cp36m-manylinux2010_x86_64.whl (14.8 MB)\n",
      "\u001b[K     |████████████████████████████████| 14.8 MB 8.2 MB/s eta 0:00:011    |███████                         | 3.2 MB 12.5 MB/s eta 0:00:01     |██████████▎                     | 4.8 MB 12.5 MB/s eta 0:00:01     |█████████████▌                  | 6.3 MB 12.5 MB/s eta 0:00:01     |██████████████▉                 | 6.9 MB 12.5 MB/s eta 0:00:01     |████████████████▏               | 7.5 MB 12.5 MB/s eta 0:00:01     |███████████████████████▋        | 10.9 MB 12.5 MB/s eta 0:00:01     |████████████████████████▊       | 11.5 MB 8.2 MB/s eta 0:00:01     |████████████████████████████▍   | 13.2 MB 8.2 MB/s eta 0:00:01\n",
      "\u001b[?25hRequirement already satisfied: scipy>=0.19.1 in /opt/conda/lib/python3.6/site-packages (from imbalanced-learn->imblearn) (1.2.1)\n",
      "Collecting scikit-learn>=0.24\n",
      "  Downloading scikit_learn-0.24.2-cp36-cp36m-manylinux2010_x86_64.whl (22.2 MB)\n",
      "\u001b[K     |████████████████████████████████| 22.2 MB 7.2 MB/s eta 0:00:01    |█▎                              | 870 kB 9.9 MB/s eta 0:00:03     |███▋                            | 2.5 MB 9.9 MB/s eta 0:00:03     |████▍                           | 3.0 MB 9.9 MB/s eta 0:00:02     |██████▌                         | 4.5 MB 9.9 MB/s eta 0:00:02     |███████▍                        | 5.2 MB 9.9 MB/s eta 0:00:02     |████████▎                       | 5.8 MB 9.9 MB/s eta 0:00:02     |█████████▉                      | 6.9 MB 9.9 MB/s eta 0:00:02     |██████████▋                     | 7.4 MB 9.9 MB/s eta 0:00:02     |███████████▎                    | 7.8 MB 9.9 MB/s eta 0:00:02     |████████████                    | 8.4 MB 9.9 MB/s eta 0:00:02     |███████████████▊                | 11.0 MB 8.4 MB/s eta 0:00:02     |█████████████████▍              | 12.1 MB 8.4 MB/s eta 0:00:02     |██████████████████▏             | 12.6 MB 8.4 MB/s eta 0:00:02     |███████████████████▊            | 13.7 MB 8.4 MB/s eta 0:00:02     |█████████████████████▎          | 14.8 MB 8.4 MB/s eta 0:00:01     |███████████████████████▍        | 16.3 MB 8.4 MB/s eta 0:00:01     |████████████████████████▏       | 16.8 MB 8.4 MB/s eta 0:00:01     |████████████████████████████▋   | 19.9 MB 7.2 MB/s eta 0:00:01     |█████████████████████████████▍  | 20.4 MB 7.2 MB/s eta 0:00:01     |██████████████████████████████▏ | 21.0 MB 7.2 MB/s eta 0:00:01\n",
      "\u001b[?25hRequirement already satisfied: joblib>=0.11 in /opt/conda/lib/python3.6/site-packages (from imbalanced-learn->imblearn) (0.11)\n",
      "Collecting threadpoolctl>=2.0.0\n",
      "  Downloading threadpoolctl-2.1.0-py3-none-any.whl (12 kB)\n",
      "Installing collected packages: threadpoolctl, numpy, scikit-learn, imbalanced-learn, imblearn\n",
      "  Attempting uninstall: numpy\n",
      "    Found existing installation: numpy 1.12.1\n",
      "    Uninstalling numpy-1.12.1:\n",
      "      Successfully uninstalled numpy-1.12.1\n",
      "  Attempting uninstall: scikit-learn\n",
      "    Found existing installation: scikit-learn 0.19.1\n",
      "    Uninstalling scikit-learn-0.19.1:\n",
      "      Successfully uninstalled scikit-learn-0.19.1\n",
      "\u001b[31mERROR: pip's dependency resolver does not currently take into account all the packages that are installed. This behaviour is the source of the following dependency conflicts.\n",
      "tensorflow 1.3.0 requires tensorflow-tensorboard<0.2.0,>=0.1.0, which is not installed.\u001b[0m\n",
      "Successfully installed imbalanced-learn-0.8.0 imblearn-0.0 numpy-1.19.5 scikit-learn-0.24.2 threadpoolctl-2.1.0\n",
      "\u001b[33mWARNING: Running pip as the 'root' user can result in broken permissions and conflicting behaviour with the system package manager. It is recommended to use a virtual environment instead: https://pip.pypa.io/warnings/venv\u001b[0m\n",
      "Collecting xgboost\n",
      "  Downloading xgboost-1.4.2-py3-none-manylinux2010_x86_64.whl (166.7 MB)\n"
     ]
    },
    {
     "name": "stdout",
     "output_type": "stream",
     "text": [
      "\u001b[K     |████████████████████▎           | 105.6 MB 5.4 MB/s eta 0:00:12   |▏                               | 788 kB 4.5 MB/s eta 0:00:37     |▎                               | 1.2 MB 4.5 MB/s eta 0:00:37     |▌                               | 2.8 MB 4.5 MB/s eta 0:00:37     |▊                               | 3.8 MB 4.5 MB/s eta 0:00:36     |█                               | 4.9 MB 4.5 MB/s eta 0:00:36     |█                               | 5.5 MB 4.5 MB/s eta 0:00:36     |█▏                              | 6.1 MB 4.5 MB/s eta 0:00:36     |█▊                              | 8.9 MB 4.5 MB/s eta 0:00:35     |██▎                             | 11.6 MB 5.9 MB/s eta 0:00:27     |██▍                             | 12.7 MB 5.9 MB/s eta 0:00:26     |██▋                             | 13.8 MB 5.9 MB/s eta 0:00:26     |██▊                             | 14.4 MB 5.9 MB/s eta 0:00:26     |██▉                             | 14.9 MB 5.9 MB/s eta 0:00:26     |███                             | 15.4 MB 5.9 MB/s eta 0:00:26     |███                             | 16.0 MB 5.9 MB/s eta 0:00:26     |███▏                            | 16.5 MB 5.9 MB/s eta 0:00:26     |███▍                            | 17.6 MB 5.9 MB/s eta 0:00:26     |███▌                            | 18.2 MB 5.9 MB/s eta 0:00:25     |███▉                            | 19.9 MB 8.0 MB/s eta 0:00:19     |████▏                           | 21.5 MB 8.0 MB/s eta 0:00:19     |████▌                           | 23.2 MB 8.0 MB/s eta 0:00:19     |█████                           | 25.6 MB 8.0 MB/s eta 0:00:18     |█████                           | 26.4 MB 8.0 MB/s eta 0:00:18     |█████▏                          | 26.9 MB 8.0 MB/s eta 0:00:18     |█████▎                          | 27.4 MB 8.0 MB/s eta 0:00:18     |█████▍                          | 27.9 MB 8.0 MB/s eta 0:00:18     |█████▍                          | 28.3 MB 8.0 MB/s eta 0:00:18     |█████▌                          | 28.7 MB 4.8 MB/s eta 0:00:30     |█████▉                          | 30.6 MB 4.8 MB/s eta 0:00:29     |██████                          | 31.6 MB 4.8 MB/s eta 0:00:29     |██████▎                         | 32.6 MB 4.8 MB/s eta 0:00:29     |██████▍                         | 33.6 MB 4.8 MB/s eta 0:00:28     |██████▌                         | 34.1 MB 4.8 MB/s eta 0:00:28     |███████                         | 36.1 MB 4.8 MB/s eta 0:00:28     |███████                         | 36.7 MB 4.8 MB/s eta 0:00:28     |███████▎                        | 37.7 MB 10.8 MB/s eta 0:00:12     |███████▍                        | 38.7 MB 10.8 MB/s eta 0:00:12     |███████▌                        | 39.1 MB 10.8 MB/s eta 0:00:12     |███████▊                        | 40.5 MB 10.8 MB/s eta 0:00:12     |███████▉                        | 40.8 MB 10.8 MB/s eta 0:00:12     |████████                        | 42.0 MB 10.8 MB/s eta 0:00:12     |████████▏                       | 42.5 MB 10.8 MB/s eta 0:00:12     |████████▎                       | 43.1 MB 10.8 MB/s eta 0:00:12     |████████▍                       | 43.6 MB 10.8 MB/s eta 0:00:12     |████████▌                       | 44.1 MB 10.8 MB/s eta 0:00:12     |████████▊                       | 45.2 MB 10.8 MB/s eta 0:00:12     |████████▉                       | 45.7 MB 5.3 MB/s eta 0:00:23     |████████▉                       | 46.3 MB 5.3 MB/s eta 0:00:23     |█████████                       | 46.8 MB 5.3 MB/s eta 0:00:23     |█████████                       | 47.3 MB 5.3 MB/s eta 0:00:23     |█████████▏                      | 47.8 MB 5.3 MB/s eta 0:00:23     |█████████▍                      | 48.9 MB 5.3 MB/s eta 0:00:23     |█████████▌                      | 49.3 MB 5.3 MB/s eta 0:00:23     |█████████▊                      | 50.4 MB 5.3 MB/s eta 0:00:22     |█████████▊                      | 50.9 MB 5.3 MB/s eta 0:00:22     |██████████▎                     | 53.5 MB 5.3 MB/s eta 0:00:22     |██████████▍                     | 54.0 MB 5.3 MB/s eta 0:00:22     |███████████                     | 57.1 MB 6.6 MB/s eta 0:00:17     |███████████▎                    | 58.6 MB 6.6 MB/s eta 0:00:17     |███████████▍                    | 59.6 MB 6.6 MB/s eta 0:00:17     |███████████▌                    | 60.1 MB 6.6 MB/s eta 0:00:17     |███████████▋                    | 60.6 MB 6.6 MB/s eta 0:00:17     |███████████▊                    | 61.1 MB 6.6 MB/s eta 0:00:17     |███████████▉                    | 61.6 MB 6.6 MB/s eta 0:00:17     |████████████                    | 62.1 MB 6.6 MB/s eta 0:00:16     |████████████▋                   | 65.5 MB 8.8 MB/s eta 0:00:12     |████████████▊                   | 66.1 MB 8.8 MB/s eta 0:00:12     |████████████▊                   | 66.5 MB 8.8 MB/s eta 0:00:12     |████████████▉                   | 67.1 MB 8.8 MB/s eta 0:00:12     |█████████████                   | 67.5 MB 8.8 MB/s eta 0:00:12     |█████████████                   | 68.0 MB 8.8 MB/s eta 0:00:12     |█████████████▎                  | 69.0 MB 8.8 MB/s eta 0:00:12     |█████████████▍                  | 69.9 MB 8.8 MB/s eta 0:00:11     |█████████████▌                  | 70.5 MB 8.8 MB/s eta 0:00:11     |█████████████▊                  | 71.6 MB 8.8 MB/s eta 0:00:11     |██████████████                  | 72.6 MB 10.1 MB/s eta 0:00:10     |██████████████▏                 | 73.6 MB 10.1 MB/s eta 0:00:10     |██████████████▊                 | 76.5 MB 10.1 MB/s eta 0:00:09     |██████████████▉                 | 77.4 MB 10.1 MB/s eta 0:00:09     |███████████████                 | 77.9 MB 10.1 MB/s eta 0:00:09     |███████████████                 | 78.5 MB 10.1 MB/s eta 0:00:09     |███████████████▏                | 79.0 MB 10.1 MB/s eta 0:00:09     |███████████████▎                | 79.9 MB 10.1 MB/s eta 0:00:09     |███████████████▌                | 81.0 MB 4.7 MB/s eta 0:00:19     |███████████████▊                | 82.0 MB 4.7 MB/s eta 0:00:19     |████████████████                | 83.0 MB 4.7 MB/s eta 0:00:18     |████████████████                | 83.3 MB 4.7 MB/s eta 0:00:18     |████████████████                | 83.7 MB 4.7 MB/s eta 0:00:18     |████████████████▏               | 84.2 MB 4.7 MB/s eta 0:00:18     |████████████████▍               | 85.2 MB 4.7 MB/s eta 0:00:18     |████████████████▋               | 86.3 MB 4.7 MB/s eta 0:00:18     |████████████████▊               | 86.9 MB 4.7 MB/s eta 0:00:18     |████████████████▉               | 87.4 MB 4.7 MB/s eta 0:00:17     |████████████████▉               | 87.9 MB 4.7 MB/s eta 0:00:17     |█████████████████               | 88.4 MB 4.7 MB/s eta 0:00:17     |█████████████████▏              | 89.4 MB 5.5 MB/s eta 0:00:15     |█████████████████▍              | 90.3 MB 5.5 MB/s eta 0:00:14     |█████████████████▍              | 90.8 MB 5.5 MB/s eta 0:00:14     |█████████████████▌              | 91.3 MB 5.5 MB/s eta 0:00:14     |█████████████████▋              | 91.7 MB 5.5 MB/s eta 0:00:14     |█████████████████▊              | 92.2 MB 5.5 MB/s eta 0:00:14     |█████████████████▉              | 92.7 MB 5.5 MB/s eta 0:00:14     |██████████████████              | 93.2 MB 5.5 MB/s eta 0:00:14     |██████████████████              | 93.7 MB 5.5 MB/s eta 0:00:14     |██████████████████▏             | 94.6 MB 5.5 MB/s eta 0:00:14     |██████████████████▍             | 95.6 MB 5.5 MB/s eta 0:00:13     |██████████████████▌             | 96.1 MB 5.5 MB/s eta 0:00:13     |██████████████████▌             | 96.6 MB 5.5 MB/s eta 0:00:13     |██████████████████▋             | 97.2 MB 5.5 MB/s eta 0:00:13     |██████████████████▉             | 97.8 MB 5.4 MB/s eta 0:00:13     |███████████████████             | 98.4 MB 5.4 MB/s eta 0:00:13     |███████████████████             | 98.9 MB 5.4 MB/s eta 0:00:13     |███████████████████▏            | 100.0 MB 5.4 MB/s eta 0:00:13     |███████████████████▎            | 100.5 MB 5.4 MB/s eta 0:00:13     |███████████████████▍            | 101.0 MB 5.4 MB/s eta 0:00:13     |███████████████████▌            | 101.5 MB 5.4 MB/s eta 0:00:13     |███████████████████▊            | 102.5 MB 5.4 MB/s eta 0:00:12     |███████████████████▉            | 103.5 MB 5.4 MB/s eta 0:00:12     |████████████████████            | 104.2 MB 5.4 MB/s eta 0:00:12     |████████████████████▏           | 105.2 MB 5.4 MB/s eta 0:00:12"
     ]
    },
    {
     "name": "stdout",
     "output_type": "stream",
     "text": [
      "\u001b[K     |████████████████████████████████| 166.7 MB 8.6 kB/s eta 0:00:011    |████████████████████▌           | 107.0 MB 6.2 MB/s eta 0:00:10     |████████████████████▋           | 107.5 MB 6.2 MB/s eta 0:00:10     |████████████████████▊           | 108.0 MB 6.2 MB/s eta 0:00:10     |█████████████████████           | 109.7 MB 6.2 MB/s eta 0:00:10     |█████████████████████▏          | 110.3 MB 6.2 MB/s eta 0:00:10     |█████████████████████▍          | 111.5 MB 6.2 MB/s eta 0:00:09     |█████████████████████▌          | 112.0 MB 6.2 MB/s eta 0:00:09     |█████████████████████▊          | 113.2 MB 6.2 MB/s eta 0:00:09     |██████████████████████          | 114.2 MB 6.2 MB/s eta 0:00:09     |██████████████████████          | 114.8 MB 6.2 MB/s eta 0:00:09     |██████████████████████▎         | 115.8 MB 8.5 MB/s eta 0:00:06     |██████████████████████▍         | 116.5 MB 8.5 MB/s eta 0:00:06     |██████████████████████▌         | 117.5 MB 8.5 MB/s eta 0:00:06     |██████████████████████▋         | 118.0 MB 8.5 MB/s eta 0:00:06     |███████████████████████         | 119.7 MB 8.5 MB/s eta 0:00:06     |███████████████████████▏        | 120.8 MB 8.5 MB/s eta 0:00:06     |███████████████████████▎        | 121.4 MB 8.5 MB/s eta 0:00:06     |███████████████████████▍        | 122.0 MB 8.5 MB/s eta 0:00:06     |███████████████████████▌        | 122.5 MB 8.5 MB/s eta 0:00:06     |███████████████████████▋        | 123.2 MB 8.5 MB/s eta 0:00:06     |███████████████████████▉        | 124.3 MB 8.5 MB/s eta 0:00:05     |████████████████████████        | 124.8 MB 4.4 MB/s eta 0:00:10     |████████████████████████        | 125.3 MB 4.4 MB/s eta 0:00:10     |████████████████████████▏       | 125.8 MB 4.4 MB/s eta 0:00:10     |████████████████████████▍       | 127.0 MB 4.4 MB/s eta 0:00:10     |████████████████████████▋       | 128.1 MB 4.4 MB/s eta 0:00:09     |████████████████████████▊       | 128.6 MB 4.4 MB/s eta 0:00:09     |█████████████████████████       | 130.4 MB 4.4 MB/s eta 0:00:09     |█████████████████████████▏      | 130.9 MB 4.4 MB/s eta 0:00:09     |█████████████████████████▍      | 132.1 MB 4.4 MB/s eta 0:00:08     |█████████████████████████▌      | 132.6 MB 4.4 MB/s eta 0:00:08     |█████████████████████████▋      | 133.2 MB 4.4 MB/s eta 0:00:08     |█████████████████████████▊      | 133.8 MB 4.4 MB/s eta 0:00:08     |█████████████████████████▉      | 134.3 MB 10.1 MB/s eta 0:00:04     |█████████████████████████▉      | 134.9 MB 10.1 MB/s eta 0:00:04     |██████████████████████████      | 135.5 MB 10.1 MB/s eta 0:00:04     |██████████████████████████▏     | 136.4 MB 10.1 MB/s eta 0:00:04     |██████████████████████████▎     | 137.0 MB 10.1 MB/s eta 0:00:03     |██████████████████████████▍     | 137.6 MB 10.1 MB/s eta 0:00:03     |██████████████████████████▌     | 138.1 MB 10.1 MB/s eta 0:00:03     |██████████████████████████▊     | 139.2 MB 10.1 MB/s eta 0:00:03     |███████████████████████████     | 140.4 MB 10.1 MB/s eta 0:00:03     |███████████████████████████▏    | 141.6 MB 10.1 MB/s eta 0:00:03     |███████████████████████████▍    | 142.9 MB 10.1 MB/s eta 0:00:03     |███████████████████████████▋    | 144.0 MB 10.1 MB/s eta 0:00:03     |███████████████████████████▉    | 145.0 MB 10.1 MB/s eta 0:00:03     |████████████████████████████▏   | 147.0 MB 10.1 MB/s eta 0:00:02     |████████████████████████████▌   | 148.6 MB 22.2 MB/s eta 0:00:01     |████████████████████████████▋   | 149.0 MB 22.2 MB/s eta 0:00:01     |█████████████████████████████   | 151.1 MB 22.2 MB/s eta 0:00:01     |█████████████████████████████▏  | 152.1 MB 22.2 MB/s eta 0:00:01     |█████████████████████████████▍  | 153.3 MB 22.2 MB/s eta 0:00:01     |█████████████████████████████▊  | 155.0 MB 22.2 MB/s eta 0:00:01     |██████████████████████████████  | 155.9 MB 22.2 MB/s eta 0:00:01     |██████████████████████████████▏ | 157.1 MB 22.2 MB/s eta 0:00:01     |██████████████████████████████▎ | 158.0 MB 22.2 MB/s eta 0:00:01     |██████████████████████████████▋ | 159.5 MB 6.5 MB/s eta 0:00:02     |██████████████████████████████▊ | 159.9 MB 6.5 MB/s eta 0:00:02     |██████████████████████████████▊ | 160.3 MB 6.5 MB/s eta 0:00:01     |██████████████████████████████▉ | 160.8 MB 6.5 MB/s eta 0:00:01     |███████████████████████████████ | 161.3 MB 6.5 MB/s eta 0:00:01     |███████████████████████████████ | 161.7 MB 6.5 MB/s eta 0:00:01     |███████████████████████████████▏| 162.3 MB 6.5 MB/s eta 0:00:01     |███████████████████████████████▎| 162.9 MB 6.5 MB/s eta 0:00:01     |███████████████████████████████▌| 164.0 MB 6.5 MB/s eta 0:00:01     |███████████████████████████████▋| 164.6 MB 6.5 MB/s eta 0:00:01     |███████████████████████████████▊| 165.3 MB 6.5 MB/s eta 0:00:01     |███████████████████████████████▉| 165.9 MB 6.5 MB/s eta 0:00:01     |████████████████████████████████| 166.6 MB 6.5 MB/s eta 0:00:01\n",
      "\u001b[?25hRequirement already satisfied: scipy in /opt/conda/lib/python3.6/site-packages (from xgboost) (1.2.1)\n",
      "Requirement already satisfied: numpy in /opt/conda/lib/python3.6/site-packages (from xgboost) (1.19.5)\n",
      "Installing collected packages: xgboost\n",
      "Successfully installed xgboost-1.4.2\n",
      "\u001b[33mWARNING: Running pip as the 'root' user can result in broken permissions and conflicting behaviour with the system package manager. It is recommended to use a virtual environment instead: https://pip.pypa.io/warnings/venv\u001b[0m\n"
     ]
    }
   ],
   "source": [
    "!pip install -U pip\n",
    "!pip install imblearn\n",
    "!pip install xgboost"
   ]
  },
  {
   "cell_type": "code",
   "execution_count": 2,
   "metadata": {},
   "outputs": [
    {
     "data": {
      "text/html": [
       "<div>\n",
       "<style scoped>\n",
       "    .dataframe tbody tr th:only-of-type {\n",
       "        vertical-align: middle;\n",
       "    }\n",
       "\n",
       "    .dataframe tbody tr th {\n",
       "        vertical-align: top;\n",
       "    }\n",
       "\n",
       "    .dataframe thead th {\n",
       "        text-align: right;\n",
       "    }\n",
       "</style>\n",
       "<table border=\"1\" class=\"dataframe\">\n",
       "  <thead>\n",
       "    <tr style=\"text-align: right;\">\n",
       "      <th></th>\n",
       "      <th>ID</th>\n",
       "      <th>Promotion</th>\n",
       "      <th>purchase</th>\n",
       "      <th>V1</th>\n",
       "      <th>V2</th>\n",
       "      <th>V3</th>\n",
       "      <th>V4</th>\n",
       "      <th>V5</th>\n",
       "      <th>V6</th>\n",
       "      <th>V7</th>\n",
       "    </tr>\n",
       "  </thead>\n",
       "  <tbody>\n",
       "    <tr>\n",
       "      <th>0</th>\n",
       "      <td>1</td>\n",
       "      <td>No</td>\n",
       "      <td>0</td>\n",
       "      <td>2</td>\n",
       "      <td>30.443518</td>\n",
       "      <td>-1.165083</td>\n",
       "      <td>1</td>\n",
       "      <td>1</td>\n",
       "      <td>3</td>\n",
       "      <td>2</td>\n",
       "    </tr>\n",
       "    <tr>\n",
       "      <th>1</th>\n",
       "      <td>3</td>\n",
       "      <td>No</td>\n",
       "      <td>0</td>\n",
       "      <td>3</td>\n",
       "      <td>32.159350</td>\n",
       "      <td>-0.645617</td>\n",
       "      <td>2</td>\n",
       "      <td>3</td>\n",
       "      <td>2</td>\n",
       "      <td>2</td>\n",
       "    </tr>\n",
       "    <tr>\n",
       "      <th>2</th>\n",
       "      <td>4</td>\n",
       "      <td>No</td>\n",
       "      <td>0</td>\n",
       "      <td>2</td>\n",
       "      <td>30.431659</td>\n",
       "      <td>0.133583</td>\n",
       "      <td>1</td>\n",
       "      <td>1</td>\n",
       "      <td>4</td>\n",
       "      <td>2</td>\n",
       "    </tr>\n",
       "    <tr>\n",
       "      <th>3</th>\n",
       "      <td>5</td>\n",
       "      <td>No</td>\n",
       "      <td>0</td>\n",
       "      <td>0</td>\n",
       "      <td>26.588914</td>\n",
       "      <td>-0.212728</td>\n",
       "      <td>2</td>\n",
       "      <td>1</td>\n",
       "      <td>4</td>\n",
       "      <td>2</td>\n",
       "    </tr>\n",
       "    <tr>\n",
       "      <th>4</th>\n",
       "      <td>8</td>\n",
       "      <td>Yes</td>\n",
       "      <td>0</td>\n",
       "      <td>3</td>\n",
       "      <td>28.044332</td>\n",
       "      <td>-0.385883</td>\n",
       "      <td>1</td>\n",
       "      <td>1</td>\n",
       "      <td>2</td>\n",
       "      <td>2</td>\n",
       "    </tr>\n",
       "  </tbody>\n",
       "</table>\n",
       "</div>"
      ],
      "text/plain": [
       "   ID Promotion  purchase  V1         V2        V3  V4  V5  V6  V7\n",
       "0   1        No         0   2  30.443518 -1.165083   1   1   3   2\n",
       "1   3        No         0   3  32.159350 -0.645617   2   3   2   2\n",
       "2   4        No         0   2  30.431659  0.133583   1   1   4   2\n",
       "3   5        No         0   0  26.588914 -0.212728   2   1   4   2\n",
       "4   8       Yes         0   3  28.044332 -0.385883   1   1   2   2"
      ]
     },
     "execution_count": 2,
     "metadata": {},
     "output_type": "execute_result"
    }
   ],
   "source": [
    "# load in packages\n",
    "from itertools import combinations\n",
    "\n",
    "from test_results import test_results, score\n",
    "import numpy as np\n",
    "import pandas as pd\n",
    "import scipy as sp\n",
    "import sklearn as sk\n",
    "import xgboost as xgb\n",
    "from imblearn.over_sampling import SMOTE\n",
    "\n",
    "import matplotlib.pyplot as plt\n",
    "import seaborn as sb\n",
    "%matplotlib inline\n",
    "\n",
    "# load in the data\n",
    "train_data = pd.read_csv('./training.csv')\n",
    "train_data.head()"
   ]
  },
  {
   "cell_type": "code",
   "execution_count": 3,
   "metadata": {},
   "outputs": [
    {
     "data": {
      "text/html": [
       "<div>\n",
       "<style scoped>\n",
       "    .dataframe tbody tr th:only-of-type {\n",
       "        vertical-align: middle;\n",
       "    }\n",
       "\n",
       "    .dataframe tbody tr th {\n",
       "        vertical-align: top;\n",
       "    }\n",
       "\n",
       "    .dataframe thead th {\n",
       "        text-align: right;\n",
       "    }\n",
       "</style>\n",
       "<table border=\"1\" class=\"dataframe\">\n",
       "  <thead>\n",
       "    <tr style=\"text-align: right;\">\n",
       "      <th></th>\n",
       "      <th>ID</th>\n",
       "      <th>Promotion</th>\n",
       "      <th>purchase</th>\n",
       "      <th>V1</th>\n",
       "      <th>V2</th>\n",
       "      <th>V3</th>\n",
       "      <th>V4</th>\n",
       "      <th>V5</th>\n",
       "      <th>V6</th>\n",
       "      <th>V7</th>\n",
       "    </tr>\n",
       "  </thead>\n",
       "  <tbody>\n",
       "    <tr>\n",
       "      <th>0</th>\n",
       "      <td>2</td>\n",
       "      <td>No</td>\n",
       "      <td>0</td>\n",
       "      <td>1</td>\n",
       "      <td>41.376390</td>\n",
       "      <td>1.172517</td>\n",
       "      <td>1</td>\n",
       "      <td>1</td>\n",
       "      <td>2</td>\n",
       "      <td>2</td>\n",
       "    </tr>\n",
       "    <tr>\n",
       "      <th>1</th>\n",
       "      <td>6</td>\n",
       "      <td>Yes</td>\n",
       "      <td>0</td>\n",
       "      <td>1</td>\n",
       "      <td>25.163598</td>\n",
       "      <td>0.653050</td>\n",
       "      <td>2</td>\n",
       "      <td>2</td>\n",
       "      <td>2</td>\n",
       "      <td>2</td>\n",
       "    </tr>\n",
       "    <tr>\n",
       "      <th>2</th>\n",
       "      <td>7</td>\n",
       "      <td>Yes</td>\n",
       "      <td>0</td>\n",
       "      <td>1</td>\n",
       "      <td>26.553778</td>\n",
       "      <td>-1.597972</td>\n",
       "      <td>2</td>\n",
       "      <td>3</td>\n",
       "      <td>4</td>\n",
       "      <td>2</td>\n",
       "    </tr>\n",
       "    <tr>\n",
       "      <th>3</th>\n",
       "      <td>10</td>\n",
       "      <td>No</td>\n",
       "      <td>0</td>\n",
       "      <td>2</td>\n",
       "      <td>28.529691</td>\n",
       "      <td>-1.078506</td>\n",
       "      <td>2</td>\n",
       "      <td>3</td>\n",
       "      <td>2</td>\n",
       "      <td>2</td>\n",
       "    </tr>\n",
       "    <tr>\n",
       "      <th>4</th>\n",
       "      <td>12</td>\n",
       "      <td>No</td>\n",
       "      <td>0</td>\n",
       "      <td>2</td>\n",
       "      <td>32.378538</td>\n",
       "      <td>0.479895</td>\n",
       "      <td>2</td>\n",
       "      <td>2</td>\n",
       "      <td>1</td>\n",
       "      <td>2</td>\n",
       "    </tr>\n",
       "  </tbody>\n",
       "</table>\n",
       "</div>"
      ],
      "text/plain": [
       "   ID Promotion  purchase  V1         V2        V3  V4  V5  V6  V7\n",
       "0   2        No         0   1  41.376390  1.172517   1   1   2   2\n",
       "1   6       Yes         0   1  25.163598  0.653050   2   2   2   2\n",
       "2   7       Yes         0   1  26.553778 -1.597972   2   3   4   2\n",
       "3  10        No         0   2  28.529691 -1.078506   2   3   2   2\n",
       "4  12        No         0   2  32.378538  0.479895   2   2   1   2"
      ]
     },
     "execution_count": 3,
     "metadata": {},
     "output_type": "execute_result"
    }
   ],
   "source": [
    "# Cells for you to work and document as necessary - \n",
    "# definitely feel free to add more cells as you need\n",
    "\n",
    "#load test data\n",
    "test_data = pd.read_csv('./Test.csv')\n",
    "test_data.head()"
   ]
  },
  {
   "cell_type": "code",
   "execution_count": 4,
   "metadata": {},
   "outputs": [
    {
     "name": "stdout",
     "output_type": "stream",
     "text": [
      "Yes    42364\n",
      "No     42170\n",
      "Name: Promotion, dtype: int64\n",
      "0    83494\n",
      "1     1040\n",
      "Name: purchase, dtype: int64\n"
     ]
    }
   ],
   "source": [
    "#checking no of customers which received promotion and no. of customers who purchased the product\n",
    "print(train_data['Promotion'].value_counts())\n",
    "print(train_data['purchase'].value_counts())"
   ]
  },
  {
   "cell_type": "markdown",
   "metadata": {},
   "source": [
    "\n",
    "\n",
    "# BASE-LINE MODEL:\n",
    "First we will check our base line model where we send out promotion to everyone. We'll check how it fares on our chosen metrics i.e. IRR and NIR. Meanwhile we'll also check if we have enough no. of observations to draw conclusions from, with this model as reference to progress further."
   ]
  },
  {
   "cell_type": "code",
   "execution_count": 5,
   "metadata": {},
   "outputs": [],
   "source": [
    "#testing base line model\n",
    "def promotion_strategy(df):\n",
    "    '''\n",
    "    INPUT \n",
    "    df - a dataframe with *only* the columns V1 - V7 (same as train_data)\n",
    "\n",
    "    OUTPUT\n",
    "    promotion_df - np.array with the values\n",
    "                   'Yes' or 'No' related to whether or not an \n",
    "                   individual should recieve a promotion \n",
    "                   should be the length of df.shape[0]\n",
    "                \n",
    "    Ex:\n",
    "    INPUT: df\n",
    "    \n",
    "    V1\tV2\t  V3\tV4\tV5\tV6\tV7\n",
    "    2\t30\t-1.1\t1\t1\t3\t2\n",
    "    3\t32\t-0.6\t2\t3\t2\t2\n",
    "    2\t30\t0.13\t1\t1\t4\t2\n",
    "    \n",
    "    OUTPUT: promotion\n",
    "    \n",
    "    array(['Yes', 'Yes', 'No'])\n",
    "    indicating the first two users would recieve the promotion and \n",
    "    the last should not.\n",
    "    '''    \n",
    "    promotion = []\n",
    "    \n",
    "    for i in range(df.shape[0]):\n",
    "        promotion.append('Yes')\n",
    "    \n",
    "    promotion = np.array(promotion)\n",
    "    \n",
    "    return promotion"
   ]
  },
  {
   "cell_type": "code",
   "execution_count": 6,
   "metadata": {},
   "outputs": [
    {
     "name": "stdout",
     "output_type": "stream",
     "text": [
      "Nice job!  See how well your strategy worked on our test data below!\n",
      "\n",
      "Your irr with this strategy is 0.0096.\n",
      "\n",
      "Your nir with this strategy is -1132.20.\n",
      "We came up with a model with an irr of 0.0188 and an nir of 189.45 on the test set.\n",
      "\n",
      " How did you do?\n"
     ]
    },
    {
     "data": {
      "text/plain": [
       "(0.009593158278250108, -1132.1999999999998)"
      ]
     },
     "execution_count": 6,
     "metadata": {},
     "output_type": "execute_result"
    }
   ],
   "source": [
    "# This will test your results, and provide you back some information \n",
    "# on how well your promotion_strategy will work in practice\n",
    "\n",
    "test_results(promotion_strategy)"
   ]
  },
  {
   "cell_type": "code",
   "execution_count": 7,
   "metadata": {},
   "outputs": [
    {
     "data": {
      "text/plain": [
       "1990.3964646389124"
      ]
     },
     "execution_count": 7,
     "metadata": {},
     "output_type": "execute_result"
    }
   ],
   "source": [
    "from statsmodels.stats.power import NormalIndPower\n",
    "from statsmodels.stats.proportion import proportion_effectsize\n",
    "#Check sample considering standard Type I error rate (alpha = 0.05) and Power of 0.8\n",
    "#Baseline model IRR = 0.0096\n",
    "#Strabucks' model IRR = 0.0188\n",
    "NormalIndPower().solve_power(effect_size = proportion_effectsize(.0096, .0188), alpha = .05, power = 0.8,\n",
    "                             alternative = 'smaller')"
   ]
  },
  {
   "cell_type": "code",
   "execution_count": 8,
   "metadata": {},
   "outputs": [
    {
     "name": "stdout",
     "output_type": "stream",
     "text": [
      "42364\n",
      "42170\n"
     ]
    }
   ],
   "source": [
    "#Checking size of control and treatment groups\n",
    "print(train_data[train_data['Promotion']=='Yes'].shape[0])\n",
    "print(train_data[train_data['Promotion']=='No'].shape[0])"
   ]
  },
  {
   "cell_type": "markdown",
   "metadata": {},
   "source": [
    "Seems like our base line model doesn't even remotely perform as good. It has NIR in negative (-1132) which suggests sending out promotion to everyone is definitely not a good idea. Also, no. of observations we can see is sufficient for the experiment."
   ]
  },
  {
   "cell_type": "markdown",
   "metadata": {},
   "source": [
    "# Model 2: Uplift Model\n",
    "\n",
    "We observed from our Baseline Model that sending out promotions to everyone is not an optimal strategy. To overcome that we'll divide our customes into 4 Broad groups. (Reference:[Uplift Modeling](https://towardsdatascience.com/uplift-modeling-e38f96b1ef60))\n",
    "\n",
    "1.Treatment Responders: Customers that will purchase only if they receive an offer\n",
    "2.Treatment Non-Responders: Customer that won’t purchase in any case\n",
    "3.Control Responders: Customers that will purchase without an offer\n",
    "4.Control Non-Responders: Customers that will not purchase if they don’t receive an offer\n",
    "\n",
    "In the above set of groups our focus will be on TR and CN and we'll calculate our lift score as described in the the post.<br>\n",
    "                  <b><i><h3><center>Uplift Score = $P_T$$_R$+$P_C$$_N$-$P_T$$_N$-$P_C$$_R$</center><h3><i></b>\n",
    "    \n",
    "If the above uplift score turns out to be 0 we may send out the promotion but we'll try different thresholds and check what gives us the best result. For better results to calculate threshold gridsearch can be used, however we'll stick to manually trying our different thresholds (quantiles).\n",
    "\n",
    "# Multi Class Classification:\n",
    "\n",
    "We'll classify customers into 4 distinguished classes (TN, CN, TR and CR) to calculate the uplift score. The above defined criterias will be used to for each data set (Training and Test) to create additional column signifying one of the 4 classes."
   ]
  },
  {
   "cell_type": "code",
   "execution_count": 9,
   "metadata": {},
   "outputs": [
    {
     "data": {
      "text/plain": [
       "0    41851\n",
       "2    41643\n",
       "3      721\n",
       "1      319\n",
       "Name: target_class, dtype: int64"
      ]
     },
     "execution_count": 9,
     "metadata": {},
     "output_type": "execute_result"
    }
   ],
   "source": [
    "#create additional column of target class in train data set\n",
    "train_data['target_class']=0 #CN\n",
    "train_data.loc[(train_data.Promotion == 'No') & (train_data.purchase == 1),'target_class'] = 1 #CR\n",
    "train_data.loc[(train_data.Promotion == 'Yes') & (train_data.purchase == 0),'target_class'] = 2 #TN\n",
    "train_data.loc[(train_data.Promotion == 'Yes') & (train_data.purchase ==1),'target_class'] = 3 #TR\n",
    "\n",
    "#create additional column of target class in test data set\n",
    "test_data['target_class']=0 #CN\n",
    "test_data.loc[(test_data.Promotion == 'No') & (test_data.purchase == 1),'target_class'] = 1 #CR\n",
    "test_data.loc[(test_data.Promotion == 'Yes') & (test_data.purchase == 0),'target_class'] = 2 #TN\n",
    "test_data.loc[(test_data.Promotion == 'Yes') & (test_data.purchase ==1),'target_class'] = 3 #TR\n",
    "\n",
    "\n",
    "train_data['target_class'].value_counts()"
   ]
  },
  {
   "cell_type": "markdown",
   "metadata": {},
   "source": [
    "From above count we can see that no of observations corresponding to classes 3 and 1 are very less. Therefore, we'll use sampling technique (SMOTE) to oversample minority classes for our training data. \n"
   ]
  },
  {
   "cell_type": "code",
   "execution_count": 10,
   "metadata": {},
   "outputs": [],
   "source": [
    "#split data into train and valid set\n",
    "train, valid = sk.model_selection.train_test_split(train_data, test_size=0.2, random_state=42)\n",
    "\n",
    "features = ['V1', 'V2', 'V3', 'V4', 'V5', 'V6', 'V7']\n",
    "\n",
    "#split dataset into response and target variables\n",
    "Y_train = train['target_class']\n",
    "X_train = train[features]\n",
    "\n",
    "Y_valid = valid['target_class']\n",
    "X_valid = valid[features]\n",
    "\n",
    "Y_test = test_data['target_class']\n",
    "X_test = test_data[features]"
   ]
  },
  {
   "cell_type": "code",
   "execution_count": 11,
   "metadata": {},
   "outputs": [
    {
     "data": {
      "text/plain": [
       "0    33444\n",
       "2    33351\n",
       "3      580\n",
       "1      252\n",
       "Name: target_class, dtype: int64"
      ]
     },
     "execution_count": 11,
     "metadata": {},
     "output_type": "execute_result"
    }
   ],
   "source": [
    "Y_train.value_counts()"
   ]
  },
  {
   "cell_type": "code",
   "execution_count": 12,
   "metadata": {},
   "outputs": [
    {
     "data": {
      "text/plain": [
       "3    33444\n",
       "2    33444\n",
       "1    33444\n",
       "0    33444\n",
       "Name: target_class, dtype: int64"
      ]
     },
     "execution_count": 12,
     "metadata": {},
     "output_type": "execute_result"
    }
   ],
   "source": [
    "#oversample minority class with SMOTE\n",
    "sm = SMOTE(random_state=44)\n",
    "X_train_ovsamp, Y_train_ovsamp = sm.fit_resample(X_train, Y_train)\n",
    "\n",
    "#check value counts of each class\n",
    "Y_train_ovsamp.value_counts()"
   ]
  },
  {
   "cell_type": "code",
   "execution_count": 13,
   "metadata": {},
   "outputs": [
    {
     "name": "stderr",
     "output_type": "stream",
     "text": [
      "/opt/conda/lib/python3.6/site-packages/xgboost/sklearn.py:1146: UserWarning: The use of label encoder in XGBClassifier is deprecated and will be removed in a future release. To remove this warning, do the following: 1) Pass option use_label_encoder=False when constructing XGBClassifier object; and 2) Encode your labels (y) as integers starting with 0, i.e. 0, 1, 2, ..., [num_class - 1].\n",
      "  warnings.warn(label_encoder_deprecation_msg, UserWarning)\n"
     ]
    },
    {
     "name": "stdout",
     "output_type": "stream",
     "text": [
      "[07:41:35] WARNING: ../src/learner.cc:573: \n",
      "Parameters: { \"silent\" } might not be used.\n",
      "\n",
      "  This may not be accurate due to some parameters are only used in language bindings but\n",
      "  passed down to XGBoost core.  Or some parameters are not used but slip through this\n",
      "  verification. Please open an issue if you find above cases.\n",
      "\n",
      "\n",
      "[0]\tvalidation_0-mlogloss:1.36260\tvalidation_1-mlogloss:1.37680\n",
      "[1]\tvalidation_0-mlogloss:1.34199\tvalidation_1-mlogloss:1.36883\n",
      "[2]\tvalidation_0-mlogloss:1.32322\tvalidation_1-mlogloss:1.36164\n",
      "[3]\tvalidation_0-mlogloss:1.30601\tvalidation_1-mlogloss:1.35496\n",
      "[4]\tvalidation_0-mlogloss:1.29084\tvalidation_1-mlogloss:1.34878\n",
      "[5]\tvalidation_0-mlogloss:1.27655\tvalidation_1-mlogloss:1.34283\n",
      "[6]\tvalidation_0-mlogloss:1.26076\tvalidation_1-mlogloss:1.33696\n",
      "[7]\tvalidation_0-mlogloss:1.24558\tvalidation_1-mlogloss:1.33030\n",
      "[8]\tvalidation_0-mlogloss:1.23284\tvalidation_1-mlogloss:1.32489\n",
      "[9]\tvalidation_0-mlogloss:1.22110\tvalidation_1-mlogloss:1.32050\n",
      "[10]\tvalidation_0-mlogloss:1.21046\tvalidation_1-mlogloss:1.31612\n",
      "[11]\tvalidation_0-mlogloss:1.20012\tvalidation_1-mlogloss:1.31152\n",
      "[12]\tvalidation_0-mlogloss:1.19125\tvalidation_1-mlogloss:1.30767\n",
      "[13]\tvalidation_0-mlogloss:1.18261\tvalidation_1-mlogloss:1.30427\n",
      "[14]\tvalidation_0-mlogloss:1.17482\tvalidation_1-mlogloss:1.30029\n",
      "[15]\tvalidation_0-mlogloss:1.16815\tvalidation_1-mlogloss:1.29678\n",
      "[16]\tvalidation_0-mlogloss:1.16139\tvalidation_1-mlogloss:1.29323\n",
      "[17]\tvalidation_0-mlogloss:1.15490\tvalidation_1-mlogloss:1.29017\n",
      "[18]\tvalidation_0-mlogloss:1.14848\tvalidation_1-mlogloss:1.28655\n",
      "[19]\tvalidation_0-mlogloss:1.14133\tvalidation_1-mlogloss:1.28233\n",
      "[20]\tvalidation_0-mlogloss:1.13561\tvalidation_1-mlogloss:1.27942\n",
      "[21]\tvalidation_0-mlogloss:1.12929\tvalidation_1-mlogloss:1.27674\n",
      "[22]\tvalidation_0-mlogloss:1.12323\tvalidation_1-mlogloss:1.27213\n",
      "[23]\tvalidation_0-mlogloss:1.11902\tvalidation_1-mlogloss:1.26916\n",
      "[24]\tvalidation_0-mlogloss:1.11371\tvalidation_1-mlogloss:1.26560\n",
      "[25]\tvalidation_0-mlogloss:1.10787\tvalidation_1-mlogloss:1.26128\n",
      "[26]\tvalidation_0-mlogloss:1.10303\tvalidation_1-mlogloss:1.25798\n",
      "[27]\tvalidation_0-mlogloss:1.09590\tvalidation_1-mlogloss:1.25257\n",
      "[28]\tvalidation_0-mlogloss:1.09133\tvalidation_1-mlogloss:1.24986\n",
      "[29]\tvalidation_0-mlogloss:1.08626\tvalidation_1-mlogloss:1.24589\n",
      "[30]\tvalidation_0-mlogloss:1.08005\tvalidation_1-mlogloss:1.24216\n",
      "[31]\tvalidation_0-mlogloss:1.07452\tvalidation_1-mlogloss:1.23815\n",
      "[32]\tvalidation_0-mlogloss:1.07024\tvalidation_1-mlogloss:1.23544\n",
      "[33]\tvalidation_0-mlogloss:1.06535\tvalidation_1-mlogloss:1.23206\n",
      "[34]\tvalidation_0-mlogloss:1.05903\tvalidation_1-mlogloss:1.22782\n",
      "[35]\tvalidation_0-mlogloss:1.05392\tvalidation_1-mlogloss:1.22328\n",
      "[36]\tvalidation_0-mlogloss:1.04861\tvalidation_1-mlogloss:1.21956\n",
      "[37]\tvalidation_0-mlogloss:1.04489\tvalidation_1-mlogloss:1.21646\n",
      "[38]\tvalidation_0-mlogloss:1.03938\tvalidation_1-mlogloss:1.21251\n",
      "[39]\tvalidation_0-mlogloss:1.03142\tvalidation_1-mlogloss:1.20831\n",
      "[40]\tvalidation_0-mlogloss:1.02639\tvalidation_1-mlogloss:1.20368\n",
      "[41]\tvalidation_0-mlogloss:1.02175\tvalidation_1-mlogloss:1.19960\n",
      "[42]\tvalidation_0-mlogloss:1.01608\tvalidation_1-mlogloss:1.19559\n",
      "[43]\tvalidation_0-mlogloss:1.01094\tvalidation_1-mlogloss:1.19235\n",
      "[44]\tvalidation_0-mlogloss:1.00631\tvalidation_1-mlogloss:1.18801\n",
      "[45]\tvalidation_0-mlogloss:1.00084\tvalidation_1-mlogloss:1.18299\n",
      "[46]\tvalidation_0-mlogloss:0.99731\tvalidation_1-mlogloss:1.18005\n",
      "[47]\tvalidation_0-mlogloss:0.99297\tvalidation_1-mlogloss:1.17678\n",
      "[48]\tvalidation_0-mlogloss:0.98619\tvalidation_1-mlogloss:1.17321\n",
      "[49]\tvalidation_0-mlogloss:0.98260\tvalidation_1-mlogloss:1.16993\n",
      "[50]\tvalidation_0-mlogloss:0.97749\tvalidation_1-mlogloss:1.16722\n",
      "[51]\tvalidation_0-mlogloss:0.97264\tvalidation_1-mlogloss:1.16304\n",
      "[52]\tvalidation_0-mlogloss:0.96891\tvalidation_1-mlogloss:1.15980\n",
      "[53]\tvalidation_0-mlogloss:0.96515\tvalidation_1-mlogloss:1.15769\n",
      "[54]\tvalidation_0-mlogloss:0.96137\tvalidation_1-mlogloss:1.15443\n",
      "[55]\tvalidation_0-mlogloss:0.95596\tvalidation_1-mlogloss:1.15053\n",
      "[56]\tvalidation_0-mlogloss:0.95183\tvalidation_1-mlogloss:1.14687\n",
      "[57]\tvalidation_0-mlogloss:0.94719\tvalidation_1-mlogloss:1.14281\n",
      "[58]\tvalidation_0-mlogloss:0.94434\tvalidation_1-mlogloss:1.14017\n",
      "[59]\tvalidation_0-mlogloss:0.93878\tvalidation_1-mlogloss:1.13539\n",
      "[60]\tvalidation_0-mlogloss:0.93450\tvalidation_1-mlogloss:1.13203\n",
      "[61]\tvalidation_0-mlogloss:0.93148\tvalidation_1-mlogloss:1.12918\n",
      "[62]\tvalidation_0-mlogloss:0.92723\tvalidation_1-mlogloss:1.12520\n",
      "[63]\tvalidation_0-mlogloss:0.92304\tvalidation_1-mlogloss:1.12122\n",
      "[64]\tvalidation_0-mlogloss:0.91670\tvalidation_1-mlogloss:1.11724\n",
      "[65]\tvalidation_0-mlogloss:0.91256\tvalidation_1-mlogloss:1.11333\n",
      "[66]\tvalidation_0-mlogloss:0.90819\tvalidation_1-mlogloss:1.10977\n",
      "[67]\tvalidation_0-mlogloss:0.90421\tvalidation_1-mlogloss:1.10615\n",
      "[68]\tvalidation_0-mlogloss:0.90138\tvalidation_1-mlogloss:1.10372\n",
      "[69]\tvalidation_0-mlogloss:0.89753\tvalidation_1-mlogloss:1.10035\n",
      "[70]\tvalidation_0-mlogloss:0.89410\tvalidation_1-mlogloss:1.09787\n",
      "[71]\tvalidation_0-mlogloss:0.88716\tvalidation_1-mlogloss:1.09444\n",
      "[72]\tvalidation_0-mlogloss:0.88327\tvalidation_1-mlogloss:1.09079\n",
      "[73]\tvalidation_0-mlogloss:0.87926\tvalidation_1-mlogloss:1.08709\n",
      "[74]\tvalidation_0-mlogloss:0.87662\tvalidation_1-mlogloss:1.08461\n",
      "[75]\tvalidation_0-mlogloss:0.87192\tvalidation_1-mlogloss:1.08036\n",
      "[76]\tvalidation_0-mlogloss:0.86807\tvalidation_1-mlogloss:1.07764\n",
      "[77]\tvalidation_0-mlogloss:0.86426\tvalidation_1-mlogloss:1.07484\n",
      "[78]\tvalidation_0-mlogloss:0.86086\tvalidation_1-mlogloss:1.07193\n",
      "[79]\tvalidation_0-mlogloss:0.85698\tvalidation_1-mlogloss:1.06843\n",
      "[80]\tvalidation_0-mlogloss:0.85373\tvalidation_1-mlogloss:1.06646\n",
      "[81]\tvalidation_0-mlogloss:0.85006\tvalidation_1-mlogloss:1.06325\n",
      "[82]\tvalidation_0-mlogloss:0.84612\tvalidation_1-mlogloss:1.06012\n",
      "[83]\tvalidation_0-mlogloss:0.84387\tvalidation_1-mlogloss:1.05801\n",
      "[84]\tvalidation_0-mlogloss:0.83982\tvalidation_1-mlogloss:1.05435\n",
      "[85]\tvalidation_0-mlogloss:0.83671\tvalidation_1-mlogloss:1.05235\n",
      "[86]\tvalidation_0-mlogloss:0.83288\tvalidation_1-mlogloss:1.04898\n",
      "[87]\tvalidation_0-mlogloss:0.82952\tvalidation_1-mlogloss:1.04559\n",
      "[88]\tvalidation_0-mlogloss:0.82510\tvalidation_1-mlogloss:1.04357\n",
      "[89]\tvalidation_0-mlogloss:0.82110\tvalidation_1-mlogloss:1.04032\n",
      "[90]\tvalidation_0-mlogloss:0.81663\tvalidation_1-mlogloss:1.03779\n",
      "[91]\tvalidation_0-mlogloss:0.81284\tvalidation_1-mlogloss:1.03416\n",
      "[92]\tvalidation_0-mlogloss:0.80976\tvalidation_1-mlogloss:1.03210\n",
      "[93]\tvalidation_0-mlogloss:0.80570\tvalidation_1-mlogloss:1.02827\n",
      "[94]\tvalidation_0-mlogloss:0.80266\tvalidation_1-mlogloss:1.02535\n",
      "[95]\tvalidation_0-mlogloss:0.80014\tvalidation_1-mlogloss:1.02355\n",
      "[96]\tvalidation_0-mlogloss:0.79633\tvalidation_1-mlogloss:1.01993\n",
      "[97]\tvalidation_0-mlogloss:0.79314\tvalidation_1-mlogloss:1.01757\n",
      "[98]\tvalidation_0-mlogloss:0.79001\tvalidation_1-mlogloss:1.01529\n",
      "[99]\tvalidation_0-mlogloss:0.78792\tvalidation_1-mlogloss:1.01350\n"
     ]
    },
    {
     "data": {
      "text/plain": [
       "XGBClassifier(base_score=0.5, booster='gbtree', colsample_bylevel=1,\n",
       "              colsample_bynode=1, colsample_bytree=1, gamma=0.1, gpu_id=-1,\n",
       "              importance_type='gain', interaction_constraints='',\n",
       "              learning_rate=0.1, max_delta_step=0, max_depth=7,\n",
       "              min_child_weight=5, missing=nan, monotone_constraints='()',\n",
       "              n_estimators=100, n_jobs=1, num_class=4, num_parallel_tree=1,\n",
       "              objective='multi:softprob', random_state=42, reg_alpha=0,\n",
       "              reg_lambda=1, scale_pos_weight=None, seed=42, silent=True,\n",
       "              subsample=1, tree_method='exact', validate_parameters=1,\n",
       "              verbosity=None)"
      ]
     },
     "execution_count": 13,
     "metadata": {},
     "output_type": "execute_result"
    }
   ],
   "source": [
    "#Fit model using Extreme Gradient Boosting classifier\n",
    "eval_set = [(X_train_ovsamp, Y_train_ovsamp), (X_valid, Y_valid)]\n",
    "model = xgb.XGBClassifier(learning_rate = 0.1,\\\n",
    "                          num_class=4,\\\n",
    "                                  max_depth = 7,\\\n",
    "                                  min_child_weight = 5,\\\n",
    "                                  objective = 'multi:softmax',\\\n",
    "                                  seed = 42,\\\n",
    "                                  gamma = 0.1,\\\n",
    "                                  silent = True)\n",
    "model.fit(X_train_ovsamp, Y_train_ovsamp, eval_set=eval_set,\\\n",
    "                    eval_metric=\"mlogloss\", verbose=True, early_stopping_rounds=30)"
   ]
  },
  {
   "cell_type": "code",
   "execution_count": 14,
   "metadata": {},
   "outputs": [
    {
     "name": "stderr",
     "output_type": "stream",
     "text": [
      "/opt/conda/lib/python3.6/site-packages/xgboost/core.py:104: UserWarning: ntree_limit is deprecated, use `iteration_range` or model slicing instead.\n",
      "  UserWarning\n"
     ]
    },
    {
     "data": {
      "image/png": "[encoded data removed]",
      "text/plain": [
       "<matplotlib.figure.Figure at 0x7f1dcf893e48>"
      ]
     },
     "metadata": {
      "needs_background": "light"
     },
     "output_type": "display_data"
    }
   ],
   "source": [
    "#confusion matrix for validation set\n",
    "valid_pred = model.predict(X_valid, ntree_limit=model.best_ntree_limit)\n",
    "cm = sk.metrics.confusion_matrix(Y_valid, valid_pred)\n",
    "\n",
    "fig, ax= plt.subplots(figsize=(5,5))\n",
    "sb.heatmap(cm, annot=True, fmt='g', ax = ax); #annot=True to annotate cells\n",
    "\n",
    "# labels, title and ticks\n",
    "ax.set_xlabel('Predicted labels');\n",
    "ax.set_ylabel('True labels'); \n",
    "ax.set_title('Confusion Matrix For Treatment Group'); \n",
    "ax.xaxis.set_ticklabels(['TR', 'CR', 'TN', 'CN']); \n",
    "ax.yaxis.set_ticklabels(['TR', 'CR', 'TN', 'CN']);"
   ]
  },
  {
   "cell_type": "code",
   "execution_count": 15,
   "metadata": {},
   "outputs": [
    {
     "name": "stderr",
     "output_type": "stream",
     "text": [
      "/opt/conda/lib/python3.6/site-packages/xgboost/core.py:104: UserWarning: ntree_limit is deprecated, use `iteration_range` or model slicing instead.\n",
      "  UserWarning\n"
     ]
    },
    {
     "data": {
      "image/png": "[encoded data removed]",
      "text/plain": [
       "<matplotlib.figure.Figure at 0x7f1dcf466898>"
      ]
     },
     "metadata": {
      "needs_background": "light"
     },
     "output_type": "display_data"
    }
   ],
   "source": [
    "#confusion matrix for test set\n",
    "test_pred = model.predict(X_test, ntree_limit=model.best_ntree_limit)\n",
    "cm = sk.metrics.confusion_matrix(Y_test, test_pred)\n",
    "\n",
    "fig, ax= plt.subplots(figsize=(5,5))\n",
    "sb.heatmap(cm, annot=True, fmt='g', ax = ax); #annot=True to annotate cells\n",
    "\n",
    "# labels, title and ticks\n",
    "ax.set_xlabel('Predicted labels');\n",
    "ax.set_ylabel('True labels'); \n",
    "ax.set_title('Confusion Matrix For Treatment Group'); \n",
    "ax.xaxis.set_ticklabels(['TR', 'CR', 'TN', 'CN']); \n",
    "ax.yaxis.set_ticklabels(['TR', 'CR', 'TN', 'CN']);"
   ]
  },
  {
   "cell_type": "code",
   "execution_count": 16,
   "metadata": {},
   "outputs": [
    {
     "data": {
      "text/html": [
       "<div>\n",
       "<style scoped>\n",
       "    .dataframe tbody tr th:only-of-type {\n",
       "        vertical-align: middle;\n",
       "    }\n",
       "\n",
       "    .dataframe tbody tr th {\n",
       "        vertical-align: top;\n",
       "    }\n",
       "\n",
       "    .dataframe thead th {\n",
       "        text-align: right;\n",
       "    }\n",
       "</style>\n",
       "<table border=\"1\" class=\"dataframe\">\n",
       "  <thead>\n",
       "    <tr style=\"text-align: right;\">\n",
       "      <th></th>\n",
       "      <th>V1</th>\n",
       "      <th>V2</th>\n",
       "      <th>V3</th>\n",
       "      <th>V4</th>\n",
       "      <th>V5</th>\n",
       "      <th>V6</th>\n",
       "      <th>V7</th>\n",
       "    </tr>\n",
       "  </thead>\n",
       "  <tbody>\n",
       "    <tr>\n",
       "      <th>0</th>\n",
       "      <td>1</td>\n",
       "      <td>41.376390</td>\n",
       "      <td>1.172517</td>\n",
       "      <td>1</td>\n",
       "      <td>1</td>\n",
       "      <td>2</td>\n",
       "      <td>2</td>\n",
       "    </tr>\n",
       "    <tr>\n",
       "      <th>1</th>\n",
       "      <td>1</td>\n",
       "      <td>25.163598</td>\n",
       "      <td>0.653050</td>\n",
       "      <td>2</td>\n",
       "      <td>2</td>\n",
       "      <td>2</td>\n",
       "      <td>2</td>\n",
       "    </tr>\n",
       "    <tr>\n",
       "      <th>2</th>\n",
       "      <td>1</td>\n",
       "      <td>26.553778</td>\n",
       "      <td>-1.597972</td>\n",
       "      <td>2</td>\n",
       "      <td>3</td>\n",
       "      <td>4</td>\n",
       "      <td>2</td>\n",
       "    </tr>\n",
       "    <tr>\n",
       "      <th>3</th>\n",
       "      <td>2</td>\n",
       "      <td>28.529691</td>\n",
       "      <td>-1.078506</td>\n",
       "      <td>2</td>\n",
       "      <td>3</td>\n",
       "      <td>2</td>\n",
       "      <td>2</td>\n",
       "    </tr>\n",
       "    <tr>\n",
       "      <th>4</th>\n",
       "      <td>2</td>\n",
       "      <td>32.378538</td>\n",
       "      <td>0.479895</td>\n",
       "      <td>2</td>\n",
       "      <td>2</td>\n",
       "      <td>1</td>\n",
       "      <td>2</td>\n",
       "    </tr>\n",
       "  </tbody>\n",
       "</table>\n",
       "</div>"
      ],
      "text/plain": [
       "   V1         V2        V3  V4  V5  V6  V7\n",
       "0   1  41.376390  1.172517   1   1   2   2\n",
       "1   1  25.163598  0.653050   2   2   2   2\n",
       "2   1  26.553778 -1.597972   2   3   4   2\n",
       "3   2  28.529691 -1.078506   2   3   2   2\n",
       "4   2  32.378538  0.479895   2   2   1   2"
      ]
     },
     "execution_count": 16,
     "metadata": {},
     "output_type": "execute_result"
    }
   ],
   "source": [
    "X_test.head()"
   ]
  },
  {
   "cell_type": "code",
   "execution_count": 17,
   "metadata": {},
   "outputs": [],
   "source": [
    "#testing model with 90th quantile on uplift score as threshold value\n",
    "def promotion_strategy(df):\n",
    "    '''\n",
    "    INPUT \n",
    "    df - a dataframe with *only* the columns V1 - V7 (same as train_data)\n",
    "\n",
    "    OUTPUT\n",
    "    promotion_df - np.array with the values\n",
    "                   'Yes' or 'No' related to whether or not an \n",
    "                   individual should recieve a promotion \n",
    "                   should be the length of df.shape[0]\n",
    "                \n",
    "    Ex:\n",
    "    INPUT: df\n",
    "    \n",
    "    V1\tV2\t  V3\tV4\tV5\tV6\tV7\n",
    "    2\t30\t-1.1\t1\t1\t3\t2\n",
    "    3\t32\t-0.6\t2\t3\t2\t2\n",
    "    2\t30\t0.13\t1\t1\t4\t2\n",
    "    \n",
    "    OUTPUT: promotion\n",
    "    \n",
    "    array(['Yes', 'Yes', 'No'])\n",
    "    indicating the first two users would recieve the promotion and \n",
    "    the last should not.\n",
    "    '''\n",
    "    #predicting class probabilities\n",
    "    overall_proba = model.predict_proba(df)\n",
    "\n",
    "    #assign probabilities to 4 different columns\n",
    "    df['proba_CN'] = overall_proba[:,0] \n",
    "    df['proba_CR'] = overall_proba[:,1] \n",
    "    df['proba_TN'] = overall_proba[:,2] \n",
    "    df['proba_TR'] = overall_proba[:,3]\n",
    "\n",
    "    #calculate uplift score for all customers\n",
    "    df['uplift_score'] = df.eval('proba_CN + proba_TR - proba_TN - proba_CR')\n",
    "    \n",
    "    #calculating 75th quantile\n",
    "    df_lift = df.copy()\n",
    "    uplift_q_90 = df_lift.uplift_score.quantile(0.90)\n",
    "    \n",
    "    promotion = []\n",
    "    \n",
    "    for i in range(df.shape[0]):\n",
    "        if(df.iloc[i]['uplift_score']>=uplift_q_90):\n",
    "            promotion.append('Yes')\n",
    "        else:\n",
    "            promotion.append('No')\n",
    "    \n",
    "    promotion = np.array(promotion)\n",
    "    \n",
    "    return promotion"
   ]
  },
  {
   "cell_type": "code",
   "execution_count": 18,
   "metadata": {},
   "outputs": [
    {
     "name": "stderr",
     "output_type": "stream",
     "text": [
      "/opt/conda/lib/python3.6/site-packages/ipykernel_launcher.py:31: SettingWithCopyWarning: \n",
      "A value is trying to be set on a copy of a slice from a DataFrame.\n",
      "Try using .loc[row_indexer,col_indexer] = value instead\n",
      "\n",
      "See the caveats in the documentation: http://pandas.pydata.org/pandas-docs/stable/indexing.html#indexing-view-versus-copy\n",
      "/opt/conda/lib/python3.6/site-packages/ipykernel_launcher.py:32: SettingWithCopyWarning: \n",
      "A value is trying to be set on a copy of a slice from a DataFrame.\n",
      "Try using .loc[row_indexer,col_indexer] = value instead\n",
      "\n",
      "See the caveats in the documentation: http://pandas.pydata.org/pandas-docs/stable/indexing.html#indexing-view-versus-copy\n"
     ]
    },
    {
     "name": "stdout",
     "output_type": "stream",
     "text": [
      "Nice job!  See how well your strategy worked on our test data below!\n",
      "\n",
      "Your irr with this strategy is 0.0213.\n",
      "\n",
      "Your nir with this strategy is 124.75.\n",
      "We came up with a model with an irr of 0.0188 and an nir of 189.45 on the test set.\n",
      "\n",
      " How did you do?\n"
     ]
    },
    {
     "data": {
      "text/plain": [
       "(0.021283639593498747, 124.75)"
      ]
     },
     "execution_count": 18,
     "metadata": {},
     "output_type": "execute_result"
    }
   ],
   "source": [
    "# This will test your results, and provide you back some information \n",
    "# on how well your promotion_strategy will work in practice\n",
    "\n",
    "test_results(promotion_strategy)"
   ]
  },
  {
   "cell_type": "code",
   "execution_count": 21,
   "metadata": {},
   "outputs": [],
   "source": [
    "#testing model with 75th quantile on uplift score as threshold value\n",
    "def promotion_strategy(df):\n",
    "    '''\n",
    "    INPUT \n",
    "    df - a dataframe with *only* the columns V1 - V7 (same as train_data)\n",
    "\n",
    "    OUTPUT\n",
    "    promotion_df - np.array with the values\n",
    "                   'Yes' or 'No' related to whether or not an \n",
    "                   individual should recieve a promotion \n",
    "                   should be the length of df.shape[0]\n",
    "                \n",
    "    Ex:\n",
    "    INPUT: df\n",
    "    \n",
    "    V1\tV2\t  V3\tV4\tV5\tV6\tV7\n",
    "    2\t30\t-1.1\t1\t1\t3\t2\n",
    "    3\t32\t-0.6\t2\t3\t2\t2\n",
    "    2\t30\t0.13\t1\t1\t4\t2\n",
    "    \n",
    "    OUTPUT: promotion\n",
    "    \n",
    "    array(['Yes', 'Yes', 'No'])\n",
    "    indicating the first two users would recieve the promotion and \n",
    "    the last should not.\n",
    "    '''\n",
    "    #predicting class probabilities\n",
    "    overall_proba = model.predict_proba(df)\n",
    "\n",
    "    #assign probabilities to 4 different columns\n",
    "    df['proba_CN'] = overall_proba[:,0] \n",
    "    df['proba_CR'] = overall_proba[:,1] \n",
    "    df['proba_TN'] = overall_proba[:,2] \n",
    "    df['proba_TR'] = overall_proba[:,3]\n",
    "\n",
    "    #calculate uplift score for all customers\n",
    "    df['uplift_score'] = df.eval('proba_CN + proba_TR - proba_TN - proba_CR')\n",
    "    \n",
    "    #calculating 75th quantile\n",
    "    df_lift = df.copy()\n",
    "    uplift_q_75 = df_lift.uplift_score.quantile(0.75)\n",
    "    \n",
    "    promotion = []\n",
    "    \n",
    "    for i in range(df.shape[0]):\n",
    "        if(df.iloc[i]['uplift_score']>=uplift_q_75):\n",
    "            promotion.append('Yes')\n",
    "        else:\n",
    "            promotion.append('No')\n",
    "    \n",
    "    promotion = np.array(promotion)\n",
    "    \n",
    "    return promotion\n"
   ]
  },
  {
   "cell_type": "code",
   "execution_count": 20,
   "metadata": {},
   "outputs": [
    {
     "name": "stderr",
     "output_type": "stream",
     "text": [
      "/opt/conda/lib/python3.6/site-packages/ipykernel_launcher.py:31: SettingWithCopyWarning: \n",
      "A value is trying to be set on a copy of a slice from a DataFrame.\n",
      "Try using .loc[row_indexer,col_indexer] = value instead\n",
      "\n",
      "See the caveats in the documentation: http://pandas.pydata.org/pandas-docs/stable/indexing.html#indexing-view-versus-copy\n",
      "/opt/conda/lib/python3.6/site-packages/ipykernel_launcher.py:32: SettingWithCopyWarning: \n",
      "A value is trying to be set on a copy of a slice from a DataFrame.\n",
      "Try using .loc[row_indexer,col_indexer] = value instead\n",
      "\n",
      "See the caveats in the documentation: http://pandas.pydata.org/pandas-docs/stable/indexing.html#indexing-view-versus-copy\n"
     ]
    },
    {
     "name": "stdout",
     "output_type": "stream",
     "text": [
      "Nice job!  See how well your strategy worked on our test data below!\n",
      "\n",
      "Your irr with this strategy is 0.0191.\n",
      "\n",
      "Your nir with this strategy is 200.50.\n",
      "We came up with a model with an irr of 0.0188 and an nir of 189.45 on the test set.\n",
      "\n",
      " How did you do?\n"
     ]
    },
    {
     "data": {
      "text/plain": [
       "(0.019077743573394968, 200.5)"
      ]
     },
     "execution_count": 20,
     "metadata": {},
     "output_type": "execute_result"
    }
   ],
   "source": [
    "# This will test your results, and provide you back some information \n",
    "# on how well your promotion_strategy will work in practice\n",
    "\n",
    "test_results(promotion_strategy)"
   ]
  },
  {
   "cell_type": "code",
   "execution_count": 22,
   "metadata": {},
   "outputs": [],
   "source": [
    "#testing model with 50th quantile on uplift score as threshold value\n",
    "def promotion_strategy(df):\n",
    "    '''\n",
    "    INPUT \n",
    "    df - a dataframe with *only* the columns V1 - V7 (same as train_data)\n",
    "\n",
    "    OUTPUT\n",
    "    promotion_df - np.array with the values\n",
    "                   'Yes' or 'No' related to whether or not an \n",
    "                   individual should recieve a promotion \n",
    "                   should be the length of df.shape[0]\n",
    "                \n",
    "    Ex:\n",
    "    INPUT: df\n",
    "    \n",
    "    V1\tV2\t  V3\tV4\tV5\tV6\tV7\n",
    "    2\t30\t-1.1\t1\t1\t3\t2\n",
    "    3\t32\t-0.6\t2\t3\t2\t2\n",
    "    2\t30\t0.13\t1\t1\t4\t2\n",
    "    \n",
    "    OUTPUT: promotion\n",
    "    \n",
    "    array(['Yes', 'Yes', 'No'])\n",
    "    indicating the first two users would recieve the promotion and \n",
    "    the last should not.\n",
    "    '''\n",
    "    #predicting class probabilities\n",
    "    overall_proba = model.predict_proba(df)\n",
    "\n",
    "    #assign probabilities to 4 different columns\n",
    "    df['proba_CN'] = overall_proba[:,0] \n",
    "    df['proba_CR'] = overall_proba[:,1] \n",
    "    df['proba_TN'] = overall_proba[:,2] \n",
    "    df['proba_TR'] = overall_proba[:,3]\n",
    "\n",
    "    #calculate uplift score for all customers\n",
    "    df['uplift_score'] = df.eval('proba_CN + proba_TR - proba_TN - proba_CR')\n",
    "    \n",
    "    #calculating 75th quantile\n",
    "    df_lift = df.copy()\n",
    "    uplift_q_50 = df_lift.uplift_score.quantile(0.50)\n",
    "    \n",
    "    promotion = []\n",
    "    \n",
    "    for i in range(df.shape[0]):\n",
    "        if(df.iloc[i]['uplift_score']>=uplift_q_50):\n",
    "            promotion.append('Yes')\n",
    "        else:\n",
    "            promotion.append('No')\n",
    "    \n",
    "    promotion = np.array(promotion)\n",
    "    \n",
    "    return promotion\n"
   ]
  },
  {
   "cell_type": "code",
   "execution_count": 23,
   "metadata": {},
   "outputs": [
    {
     "name": "stderr",
     "output_type": "stream",
     "text": [
      "/opt/conda/lib/python3.6/site-packages/ipykernel_launcher.py:31: SettingWithCopyWarning: \n",
      "A value is trying to be set on a copy of a slice from a DataFrame.\n",
      "Try using .loc[row_indexer,col_indexer] = value instead\n",
      "\n",
      "See the caveats in the documentation: http://pandas.pydata.org/pandas-docs/stable/indexing.html#indexing-view-versus-copy\n",
      "/opt/conda/lib/python3.6/site-packages/ipykernel_launcher.py:32: SettingWithCopyWarning: \n",
      "A value is trying to be set on a copy of a slice from a DataFrame.\n",
      "Try using .loc[row_indexer,col_indexer] = value instead\n",
      "\n",
      "See the caveats in the documentation: http://pandas.pydata.org/pandas-docs/stable/indexing.html#indexing-view-versus-copy\n"
     ]
    },
    {
     "name": "stdout",
     "output_type": "stream",
     "text": [
      "Nice job!  See how well your strategy worked on our test data below!\n",
      "\n",
      "Your irr with this strategy is 0.0141.\n",
      "\n",
      "Your nir with this strategy is -101.75.\n",
      "We came up with a model with an irr of 0.0188 and an nir of 189.45 on the test set.\n",
      "\n",
      " How did you do?\n"
     ]
    },
    {
     "data": {
      "text/plain": [
       "(0.014101107220732073, -101.75)"
      ]
     },
     "execution_count": 23,
     "metadata": {},
     "output_type": "execute_result"
    }
   ],
   "source": [
    "# This will test your results, and provide you back some information \n",
    "# on how well your promotion_strategy will work in practice\n",
    "\n",
    "test_results(promotion_strategy)"
   ]
  },
  {
   "cell_type": "markdown",
   "metadata": {},
   "source": [
    "# Conclusion:\n",
    "\n",
    "For the two quantiles (threshold) we tested our model, our evaluation metric has performed as per given below:\n",
    "\n",
    "<b><center><ol>1. 90th Quantile: IRR=0.0213 NIR=124.75</ol></center></b>\n",
    "<b><center><ol>2. 75th Quantile: IRR=0.0190 NIR=200.50</ol></center></b>\n",
    "<b><center><ol>2. 50th Quantile: IRR=0.0141 NIR=-101.75</ol></center></b>\n",
    "\n",
    "From the above numbers, we can go for the 75th quantile as our threshold for uplift score. The model has even surpassed the benchmark, however there's still scope of improvement by considering importance of features (some more feature engineering) and grid search to improve the model Having said that, our model still holds good for the above problem statement."
   ]
  }
 ],
 "metadata": {
  "kernelspec": {
   "display_name": "Python 3",
   "language": "python",
   "name": "python3"
  },
  "language_info": {
   "codemirror_mode": {
    "name": "ipython",
    "version": 3
   },
   "file_extension": ".py",
   "mimetype": "text/x-python",
   "name": "python",
   "nbconvert_exporter": "python",
   "pygments_lexer": "ipython3",
   "version": "3.6.3"
  }
 },
 "nbformat": 4,
 "nbformat_minor": 2
}
